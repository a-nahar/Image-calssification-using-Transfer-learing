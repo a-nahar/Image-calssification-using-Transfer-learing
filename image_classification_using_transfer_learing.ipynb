{
  "nbformat": 4,
  "nbformat_minor": 0,
  "metadata": {
    "colab": {
      "name": "image classification using transfer learing.ipynb",
      "provenance": []
    },
    "kernelspec": {
      "name": "python3",
      "display_name": "Python 3"
    },
    "accelerator": "GPU"
  },
  "cells": [
    {
      "cell_type": "code",
      "metadata": {
        "id": "7aj1TNOjVhU-"
      },
      "source": [
        "import os\n",
        "import zipfile\n",
        "import tensorflow as tf\n",
        "import numpy\n",
        "import matplotlib.pyplot as plt\n"
      ],
      "execution_count": null,
      "outputs": []
    },
    {
      "cell_type": "code",
      "metadata": {
        "colab": {
          "base_uri": "https://localhost:8080/"
        },
        "id": "BtI_XV7hV1xm",
        "outputId": "2f293698-7fb4-4b38-8424-e317cfd01f6a"
      },
      "source": [
        "!wget --no-check-certificate \\\n",
        "    https://storage.googleapis.com/mledu-datasets/inception_v3_weights_tf_dim_ordering_tf_kernels_notop.h5 \\\n",
        "    -O /tmp/inception_v3_weights_tf_dim_ordering_tf_kernels_notop.h5\n",
        "  "
      ],
      "execution_count": null,
      "outputs": [
        {
          "output_type": "stream",
          "text": [
            "--2021-03-14 07:22:21--  https://storage.googleapis.com/mledu-datasets/inception_v3_weights_tf_dim_ordering_tf_kernels_notop.h5\n",
            "Resolving storage.googleapis.com (storage.googleapis.com)... 172.217.9.208, 142.250.73.208, 172.253.62.128, ...\n",
            "Connecting to storage.googleapis.com (storage.googleapis.com)|172.217.9.208|:443... connected.\n",
            "HTTP request sent, awaiting response... 200 OK\n",
            "Length: 87910968 (84M) [application/x-hdf]\n",
            "Saving to: ‘/tmp/inception_v3_weights_tf_dim_ordering_tf_kernels_notop.h5’\n",
            "\n",
            "/tmp/inception_v3_w 100%[===================>]  83.84M   149MB/s    in 0.6s    \n",
            "\n",
            "2021-03-14 07:22:22 (149 MB/s) - ‘/tmp/inception_v3_weights_tf_dim_ordering_tf_kernels_notop.h5’ saved [87910968/87910968]\n",
            "\n"
          ],
          "name": "stdout"
        }
      ]
    },
    {
      "cell_type": "code",
      "metadata": {
        "colab": {
          "base_uri": "https://localhost:8080/"
        },
        "id": "_Y7Z-S40V8oD",
        "outputId": "939f80f5-e3eb-4369-b1cb-23dd8e19969a"
      },
      "source": [
        "local_weights_file = '/tmp/inception_v3_weights_tf_dim_ordering_tf_kernels_notop.h5'\n",
        "pre_trained_model = tf.keras.applications.InceptionV3(include_top=False,weights= None,input_shape = (150,150,3),classes = 2,classifier_activation='binary')\n",
        "pre_trained_model.load_weights(local_weights_file)\n",
        "\n",
        "\n",
        "for layers in pre_trained_model.layers:\n",
        "  layers.trainable = False\n",
        "  #print(layers)\n",
        "\n",
        "last_layer = pre_trained_model.get_layer('mixed7')\n",
        "print('last layer output shape: ', last_layer.output_shape)\n",
        "last_output = last_layer.output\n",
        "#print(pre_trained_model.summary())"
      ],
      "execution_count": null,
      "outputs": [
        {
          "output_type": "stream",
          "text": [
            "last layer output shape:  (None, 7, 7, 768)\n"
          ],
          "name": "stdout"
        }
      ]
    },
    {
      "cell_type": "code",
      "metadata": {
        "colab": {
          "base_uri": "https://localhost:8080/"
        },
        "id": "eg5yfgtzWTBG",
        "outputId": "98f0c89c-e75c-4642-e33b-2aa59f20c551"
      },
      "source": [
        "last_output"
      ],
      "execution_count": null,
      "outputs": [
        {
          "output_type": "execute_result",
          "data": {
            "text/plain": [
              "<KerasTensor: shape=(None, 7, 7, 768) dtype=float32 (created by layer 'mixed7')>"
            ]
          },
          "metadata": {
            "tags": []
          },
          "execution_count": 4
        }
      ]
    },
    {
      "cell_type": "code",
      "metadata": {
        "id": "oOw_6pD0bQOQ"
      },
      "source": [
        ""
      ],
      "execution_count": null,
      "outputs": []
    },
    {
      "cell_type": "code",
      "metadata": {
        "id": "1mOaeyK7d6PP"
      },
      "source": [
        "\n",
        "# Flatten the output layer to 1 dimension\n",
        "x = tf.keras.layers.Flatten()(last_output)\n",
        "# Add a fully connected layer with 1,024 hidden units and ReLU activation\n",
        "x = tf.keras.layers.Dense(1024, activation='relu')(x)\n",
        "# Add a dropout rate of 0.2\n",
        "x = tf.keras.layers.Dropout(0.25)(x)\n",
        "# Add a final sigmoid layer for classification\n",
        "x = tf.keras.layers.Dense  (1, activation='sigmoid')(x)           \n",
        "\n",
        "model = tf.keras.Model( pre_trained_model.input, x) \n",
        "\n",
        "model.compile(optimizer = 'Adam', \n",
        "              loss = 'binary_crossentropy', \n",
        "              metrics = ['accuracy'])\n"
      ],
      "execution_count": null,
      "outputs": []
    },
    {
      "cell_type": "code",
      "metadata": {
        "colab": {
          "base_uri": "https://localhost:8080/"
        },
        "id": "4VLu5MA8huIr",
        "outputId": "55840806-1575-4509-e278-1f6285eab850"
      },
      "source": [
        "!wget --no-check-certificate \\\n",
        "        https://storage.googleapis.com/mledu-datasets/cats_and_dogs_filtered.zip \\\n",
        "       -O /tmp/cats_and_dogs_filtered.zip"
      ],
      "execution_count": null,
      "outputs": [
        {
          "output_type": "stream",
          "text": [
            "--2021-03-14 07:22:29--  https://storage.googleapis.com/mledu-datasets/cats_and_dogs_filtered.zip\n",
            "Resolving storage.googleapis.com (storage.googleapis.com)... 172.217.13.240, 172.217.15.80, 172.217.7.144, ...\n",
            "Connecting to storage.googleapis.com (storage.googleapis.com)|172.217.13.240|:443... connected.\n",
            "HTTP request sent, awaiting response... 200 OK\n",
            "Length: 68606236 (65M) [application/zip]\n",
            "Saving to: ‘/tmp/cats_and_dogs_filtered.zip’\n",
            "\n",
            "/tmp/cats_and_dogs_ 100%[===================>]  65.43M   194MB/s    in 0.3s    \n",
            "\n",
            "2021-03-14 07:22:29 (194 MB/s) - ‘/tmp/cats_and_dogs_filtered.zip’ saved [68606236/68606236]\n",
            "\n"
          ],
          "name": "stdout"
        }
      ]
    },
    {
      "cell_type": "code",
      "metadata": {
        "id": "JbJcYvoOjRYq"
      },
      "source": [
        "local_zip = '/tmp/cats_and_dogs_filtered.zip'\n",
        "zip_ref   = zipfile.ZipFile(local_zip,'r')\n",
        "zip_ref.extractall('/tmp')\n",
        "zip_ref.close()"
      ],
      "execution_count": null,
      "outputs": []
    },
    {
      "cell_type": "code",
      "metadata": {
        "id": "_95aKNqMjtWQ"
      },
      "source": [
        "dir = '/tmp/cats_and_dogs_filtered'\n",
        "train_dir = os.path.join(dir,'train')\n",
        "test_dir = os.path.join(dir,'validation')"
      ],
      "execution_count": null,
      "outputs": []
    },
    {
      "cell_type": "code",
      "metadata": {
        "colab": {
          "base_uri": "https://localhost:8080/"
        },
        "id": "JqZ0MLaRj_X3",
        "outputId": "abb15cc9-4b52-4661-9985-8ec8541941bb"
      },
      "source": [
        "train_datagen = tf.keras.preprocessing.image.ImageDataGenerator(rescale = 1.0/255,rotation_range = 40,fill_mode = 'nearest',horizontal_flip= True,vertical_flip = True,\n",
        "                                                            shear_range = 0.2,width_shift_range = 0.2,height_shift_range = 0.2)\n",
        "test_datagen = tf.keras.preprocessing.image.ImageDataGenerator(rescale = 1./255)\n",
        "\n",
        "train_gen = train_datagen.flow_from_directory(train_dir,class_mode= 'binary',target_size = (150,150))\n",
        "test_gen  = test_datagen.flow_from_directory(test_dir,class_mode= 'binary',target_size = (150,150))\n"
      ],
      "execution_count": null,
      "outputs": [
        {
          "output_type": "stream",
          "text": [
            "Found 2000 images belonging to 2 classes.\n",
            "Found 1000 images belonging to 2 classes.\n"
          ],
          "name": "stdout"
        }
      ]
    },
    {
      "cell_type": "code",
      "metadata": {
        "colab": {
          "base_uri": "https://localhost:8080/"
        },
        "id": "CtWJ0769lbzX",
        "outputId": "658bdd53-cf44-4e73-a4c4-686bd29bc27d"
      },
      "source": [
        "history = model.fit(train_gen,epochs = 50,validation_data= test_gen)"
      ],
      "execution_count": null,
      "outputs": [
        {
          "output_type": "stream",
          "text": [
            "Epoch 1/50\n",
            "63/63 [==============================] - 55s 308ms/step - loss: 1.7524 - accuracy: 0.6993 - val_loss: 0.1175 - val_accuracy: 0.9520\n",
            "Epoch 2/50\n",
            "63/63 [==============================] - 18s 280ms/step - loss: 0.3055 - accuracy: 0.8747 - val_loss: 0.1237 - val_accuracy: 0.9510\n",
            "Epoch 3/50\n",
            "63/63 [==============================] - 17s 276ms/step - loss: 0.2683 - accuracy: 0.8833 - val_loss: 0.1046 - val_accuracy: 0.9610\n",
            "Epoch 4/50\n",
            "63/63 [==============================] - 18s 286ms/step - loss: 0.2350 - accuracy: 0.8783 - val_loss: 0.1404 - val_accuracy: 0.9430\n",
            "Epoch 5/50\n",
            "63/63 [==============================] - 17s 277ms/step - loss: 0.2267 - accuracy: 0.9009 - val_loss: 0.0850 - val_accuracy: 0.9670\n",
            "Epoch 6/50\n",
            "63/63 [==============================] - 17s 277ms/step - loss: 0.2457 - accuracy: 0.8887 - val_loss: 0.1070 - val_accuracy: 0.9560\n",
            "Epoch 7/50\n",
            "63/63 [==============================] - 17s 276ms/step - loss: 0.2266 - accuracy: 0.8957 - val_loss: 0.1192 - val_accuracy: 0.9510\n",
            "Epoch 8/50\n",
            "63/63 [==============================] - 17s 277ms/step - loss: 0.2153 - accuracy: 0.9016 - val_loss: 0.1069 - val_accuracy: 0.9510\n",
            "Epoch 9/50\n",
            "63/63 [==============================] - 17s 275ms/step - loss: 0.2334 - accuracy: 0.9007 - val_loss: 0.1330 - val_accuracy: 0.9470\n",
            "Epoch 10/50\n",
            "63/63 [==============================] - 17s 278ms/step - loss: 0.1966 - accuracy: 0.9133 - val_loss: 0.0921 - val_accuracy: 0.9590\n",
            "Epoch 11/50\n",
            "63/63 [==============================] - 17s 278ms/step - loss: 0.2023 - accuracy: 0.9099 - val_loss: 0.0946 - val_accuracy: 0.9570\n",
            "Epoch 12/50\n",
            "63/63 [==============================] - 17s 277ms/step - loss: 0.1888 - accuracy: 0.9257 - val_loss: 0.0883 - val_accuracy: 0.9660\n",
            "Epoch 13/50\n",
            "63/63 [==============================] - 17s 276ms/step - loss: 0.1928 - accuracy: 0.9152 - val_loss: 0.1361 - val_accuracy: 0.9480\n",
            "Epoch 14/50\n",
            "63/63 [==============================] - 18s 278ms/step - loss: 0.2049 - accuracy: 0.9118 - val_loss: 0.1005 - val_accuracy: 0.9580\n",
            "Epoch 15/50\n",
            "63/63 [==============================] - 17s 277ms/step - loss: 0.1959 - accuracy: 0.9109 - val_loss: 0.0912 - val_accuracy: 0.9650\n",
            "Epoch 16/50\n",
            "63/63 [==============================] - 17s 276ms/step - loss: 0.1659 - accuracy: 0.9282 - val_loss: 0.0852 - val_accuracy: 0.9600\n",
            "Epoch 17/50\n",
            "63/63 [==============================] - 17s 276ms/step - loss: 0.1670 - accuracy: 0.9307 - val_loss: 0.1150 - val_accuracy: 0.9470\n",
            "Epoch 18/50\n",
            "63/63 [==============================] - 17s 276ms/step - loss: 0.1742 - accuracy: 0.9362 - val_loss: 0.0757 - val_accuracy: 0.9630\n",
            "Epoch 19/50\n",
            "63/63 [==============================] - 17s 277ms/step - loss: 0.1719 - accuracy: 0.9260 - val_loss: 0.1106 - val_accuracy: 0.9560\n",
            "Epoch 20/50\n",
            "63/63 [==============================] - 17s 271ms/step - loss: 0.2082 - accuracy: 0.9129 - val_loss: 0.0853 - val_accuracy: 0.9630\n",
            "Epoch 21/50\n",
            "63/63 [==============================] - 17s 273ms/step - loss: 0.1874 - accuracy: 0.9276 - val_loss: 0.0917 - val_accuracy: 0.9650\n",
            "Epoch 22/50\n",
            "63/63 [==============================] - 17s 274ms/step - loss: 0.1781 - accuracy: 0.9300 - val_loss: 0.0937 - val_accuracy: 0.9640\n",
            "Epoch 23/50\n",
            "63/63 [==============================] - 17s 274ms/step - loss: 0.1704 - accuracy: 0.9282 - val_loss: 0.0919 - val_accuracy: 0.9550\n",
            "Epoch 24/50\n",
            "63/63 [==============================] - 17s 273ms/step - loss: 0.1614 - accuracy: 0.9319 - val_loss: 0.1043 - val_accuracy: 0.9560\n",
            "Epoch 25/50\n",
            "63/63 [==============================] - 17s 274ms/step - loss: 0.1380 - accuracy: 0.9394 - val_loss: 0.0910 - val_accuracy: 0.9600\n",
            "Epoch 26/50\n",
            "63/63 [==============================] - 17s 272ms/step - loss: 0.1760 - accuracy: 0.9260 - val_loss: 0.0899 - val_accuracy: 0.9650\n",
            "Epoch 27/50\n",
            "63/63 [==============================] - 17s 272ms/step - loss: 0.1680 - accuracy: 0.9270 - val_loss: 0.0933 - val_accuracy: 0.9650\n",
            "Epoch 28/50\n",
            "63/63 [==============================] - 17s 272ms/step - loss: 0.1411 - accuracy: 0.9453 - val_loss: 0.0890 - val_accuracy: 0.9630\n",
            "Epoch 29/50\n",
            "63/63 [==============================] - 17s 270ms/step - loss: 0.1763 - accuracy: 0.9281 - val_loss: 0.0889 - val_accuracy: 0.9690\n",
            "Epoch 30/50\n",
            "63/63 [==============================] - 17s 270ms/step - loss: 0.1633 - accuracy: 0.9345 - val_loss: 0.1170 - val_accuracy: 0.9580\n",
            "Epoch 31/50\n",
            "63/63 [==============================] - 17s 271ms/step - loss: 0.1496 - accuracy: 0.9490 - val_loss: 0.1561 - val_accuracy: 0.9400\n",
            "Epoch 32/50\n",
            "63/63 [==============================] - 17s 272ms/step - loss: 0.1812 - accuracy: 0.9359 - val_loss: 0.1168 - val_accuracy: 0.9550\n",
            "Epoch 33/50\n",
            "63/63 [==============================] - 17s 276ms/step - loss: 0.1561 - accuracy: 0.9337 - val_loss: 0.0890 - val_accuracy: 0.9670\n",
            "Epoch 34/50\n",
            "63/63 [==============================] - 17s 271ms/step - loss: 0.1510 - accuracy: 0.9328 - val_loss: 0.0962 - val_accuracy: 0.9620\n",
            "Epoch 35/50\n",
            "63/63 [==============================] - 17s 272ms/step - loss: 0.1577 - accuracy: 0.9308 - val_loss: 0.0808 - val_accuracy: 0.9690\n",
            "Epoch 36/50\n",
            "63/63 [==============================] - 17s 271ms/step - loss: 0.1240 - accuracy: 0.9483 - val_loss: 0.0920 - val_accuracy: 0.9600\n",
            "Epoch 37/50\n",
            "63/63 [==============================] - 17s 272ms/step - loss: 0.1703 - accuracy: 0.9362 - val_loss: 0.0900 - val_accuracy: 0.9630\n",
            "Epoch 38/50\n",
            "63/63 [==============================] - 17s 272ms/step - loss: 0.1463 - accuracy: 0.9398 - val_loss: 0.0909 - val_accuracy: 0.9650\n",
            "Epoch 39/50\n",
            "63/63 [==============================] - 17s 271ms/step - loss: 0.1409 - accuracy: 0.9343 - val_loss: 0.1170 - val_accuracy: 0.9520\n",
            "Epoch 40/50\n",
            "63/63 [==============================] - 17s 276ms/step - loss: 0.1627 - accuracy: 0.9197 - val_loss: 0.0877 - val_accuracy: 0.9670\n",
            "Epoch 41/50\n",
            "63/63 [==============================] - 17s 271ms/step - loss: 0.1263 - accuracy: 0.9441 - val_loss: 0.0953 - val_accuracy: 0.9660\n",
            "Epoch 42/50\n",
            "63/63 [==============================] - 17s 271ms/step - loss: 0.1534 - accuracy: 0.9386 - val_loss: 0.0877 - val_accuracy: 0.9660\n",
            "Epoch 43/50\n",
            "63/63 [==============================] - 17s 271ms/step - loss: 0.1479 - accuracy: 0.9435 - val_loss: 0.0922 - val_accuracy: 0.9710\n",
            "Epoch 44/50\n",
            "63/63 [==============================] - 17s 271ms/step - loss: 0.1177 - accuracy: 0.9445 - val_loss: 0.1343 - val_accuracy: 0.9460\n",
            "Epoch 45/50\n",
            "63/63 [==============================] - 17s 273ms/step - loss: 0.1363 - accuracy: 0.9512 - val_loss: 0.1108 - val_accuracy: 0.9540\n",
            "Epoch 46/50\n",
            "63/63 [==============================] - 17s 273ms/step - loss: 0.1744 - accuracy: 0.9242 - val_loss: 0.0880 - val_accuracy: 0.9660\n",
            "Epoch 47/50\n",
            "63/63 [==============================] - 17s 272ms/step - loss: 0.1498 - accuracy: 0.9413 - val_loss: 0.0781 - val_accuracy: 0.9730\n",
            "Epoch 48/50\n",
            "63/63 [==============================] - 17s 272ms/step - loss: 0.1370 - accuracy: 0.9366 - val_loss: 0.0898 - val_accuracy: 0.9660\n",
            "Epoch 49/50\n",
            "63/63 [==============================] - 17s 271ms/step - loss: 0.1501 - accuracy: 0.9402 - val_loss: 0.0984 - val_accuracy: 0.9690\n",
            "Epoch 50/50\n",
            "63/63 [==============================] - 17s 274ms/step - loss: 0.1371 - accuracy: 0.9490 - val_loss: 0.0975 - val_accuracy: 0.9640\n"
          ],
          "name": "stdout"
        }
      ]
    },
    {
      "cell_type": "code",
      "metadata": {
        "colab": {
          "base_uri": "https://localhost:8080/",
          "height": 314
        },
        "id": "xk3tcLFRnHO5",
        "outputId": "a1ec482f-8d79-4949-e589-4261adbc47a8"
      },
      "source": [
        "acc = history.history['accuracy']\n",
        "val_acc = history.history['val_accuracy']\n",
        "epochs = range(len(acc))\n",
        "plt.plot(epochs, acc, 'r', label='Training accuracy')\n",
        "plt.plot(epochs, val_acc, 'b', label='Validation accuracy')\n",
        "plt.title('Training and validation accuracy')\n",
        "plt.legend(loc=0)\n",
        "plt.figure()"
      ],
      "execution_count": null,
      "outputs": [
        {
          "output_type": "execute_result",
          "data": {
            "text/plain": [
              "<Figure size 432x288 with 0 Axes>"
            ]
          },
          "metadata": {
            "tags": []
          },
          "execution_count": 12
        },
        {
          "output_type": "display_data",
          "data": {
            "image/png": "[encoded data removed]",
            "text/plain": [
              "<Figure size 432x288 with 1 Axes>"
            ]
          },
          "metadata": {
            "tags": [],
            "needs_background": "light"
          }
        },
        {
          "output_type": "display_data",
          "data": {
            "text/plain": [
              "<Figure size 432x288 with 0 Axes>"
            ]
          },
          "metadata": {
            "tags": []
          }
        }
      ]
    },
    {
      "cell_type": "code",
      "metadata": {
        "id": "eqeO4o3Uq2Rj"
      },
      "source": [
        ""
      ],
      "execution_count": null,
      "outputs": []
    }
  ]
}